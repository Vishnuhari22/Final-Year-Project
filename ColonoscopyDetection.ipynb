{
  "nbformat": 4,
  "nbformat_minor": 0,
  "metadata": {
    "colab": {
      "provenance": [],
      "gpuType": "T4"
    },
    "kernelspec": {
      "name": "python3",
      "display_name": "Python 3"
    },
    "language_info": {
      "name": "python"
    },
    "accelerator": "GPU"
  },
  "cells": [
    {
      "cell_type": "code",
      "execution_count": null,
      "metadata": {
        "id": "TQcVQBQvUrrK"
      },
      "outputs": [],
      "source": [
        "from google.colab import drive\n",
        "drive.mount('/content/drive')\n"
      ]
    },
    {
      "cell_type": "code",
      "source": [
        "# Unzip the dataset from Google Drive into the Colab environment\n",
        "# The -q flag makes the output less verbose (quieter)\n",
        "!unzip -q /content/drive/MyDrive/polyp_dataset.zip -d /content/"
      ],
      "metadata": {
        "id": "yXraVQ1XVQ4G"
      },
      "execution_count": null,
      "outputs": []
    },
    {
      "cell_type": "code",
      "source": [
        "!pip install ultralytics"
      ],
      "metadata": {
        "id": "2tnsvA4pVroD"
      },
      "execution_count": null,
      "outputs": []
    },
    {
      "cell_type": "code",
      "source": [
        "import yaml\n",
        "\n",
        "# NOTE: The paths now point to the /content/ folder, NOT Google Drive.\n",
        "# This is faster for training.\n",
        "data = {\n",
        "    'train': '/content/polyp_dataset/images/train',\n",
        "    'val': '/content/polyp_dataset/images/val',\n",
        "    'nc': 1,\n",
        "    'names': ['polyp']\n",
        "}\n",
        "\n",
        "# Write the data to a file named polyp.yaml\n",
        "with open('polyp.yaml', 'w') as f:\n",
        "    yaml.dump(data, f)\n",
        "\n",
        "print(\"polyp.yaml file created successfully.\")"
      ],
      "metadata": {
        "id": "djjZTA3fWF4O"
      },
      "execution_count": null,
      "outputs": []
    },
    {
      "cell_type": "code",
      "source": [
        "!yolo detect train data=polyp.yaml model=yolov8n.pt epochs=100 imgsz=640"
      ],
      "metadata": {
        "id": "dGoLAEP1WNoy"
      },
      "execution_count": null,
      "outputs": []
    },
    {
      "cell_type": "code",
      "source": [
        "!pip install pytube"
      ],
      "metadata": {
        "id": "J27q-r_ZkKzH"
      },
      "execution_count": null,
      "outputs": []
    },
    {
      "cell_type": "code",
      "source": [
        "!pip install yt-dlp\n"
      ],
      "metadata": {
        "id": "0TTGKyInkdWy"
      },
      "execution_count": null,
      "outputs": []
    },
    {
      "cell_type": "code",
      "source": [
        "!rm -f test_video.mp4\n"
      ],
      "metadata": {
        "id": "r6lQ8qjNlBWR"
      },
      "execution_count": null,
      "outputs": []
    },
    {
      "cell_type": "code",
      "source": [
        "# This command requests a compatible H.264 video format.\n",
        "!yt-dlp -o 'test_video.mp4' -f 'bestvideo[ext=mp4][vcodec^=avc1]+bestaudio[ext=m4a]/best[ext=mp4]/best' 'https://www.youtube.com/watch?v=ewCIqAAJGPg'"
      ],
      "metadata": {
        "id": "kBGWqjSxlLnS"
      },
      "execution_count": null,
      "outputs": []
    },
    {
      "cell_type": "code",
      "source": [
        "!yolo detect predict model=runs/detect/train/weights/best.pt source=test_video.mp4\n"
      ],
      "metadata": {
        "id": "2J0QMUkemTns"
      },
      "execution_count": null,
      "outputs": []
    },
    {
      "cell_type": "markdown",
      "source": [],
      "metadata": {
        "id": "zH-yw05IWWwt"
      }
    }
  ]
}